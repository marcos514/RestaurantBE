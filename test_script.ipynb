{
 "cells": [
  {
   "cell_type": "code",
   "execution_count": 19,
   "source": [
    "def format_number(number):\n",
    "    string_number = str(number)\n",
    "    number_len = len(string_number)\n",
    "    number_of_commas = int(number_len/3) - (0 if number_len%3 else 1)\n",
    "    for i in range(number_of_commas):\n",
    "        comma_index =number_len - 3 * (i+1)\n",
    "        print(comma_index)\n",
    "        string_number = string_number[:comma_index] + ',' + string_number[comma_index:]\n",
    "    return string_number, number_of_commas\n",
    "\n",
    "format_number(100000000)"
   ],
   "outputs": [
    {
     "output_type": "stream",
     "name": "stdout",
     "text": [
      "7\n",
      "4\n",
      "1\n"
     ]
    },
    {
     "output_type": "execute_result",
     "data": {
      "text/plain": [
       "('1,000,000,000', 3)"
      ]
     },
     "metadata": {},
     "execution_count": 19
    }
   ],
   "metadata": {}
  }
 ],
 "metadata": {
  "orig_nbformat": 4,
  "language_info": {
   "name": "python",
   "version": "3.9.1",
   "mimetype": "text/x-python",
   "codemirror_mode": {
    "name": "ipython",
    "version": 3
   },
   "pygments_lexer": "ipython3",
   "nbconvert_exporter": "python",
   "file_extension": ".py"
  },
  "kernelspec": {
   "name": "python3",
   "display_name": "Python 3.9.1 64-bit"
  },
  "interpreter": {
   "hash": "aee8b7b246df8f9039afb4144a1f6fd8d2ca17a180786b69acc140d282b71a49"
  }
 },
 "nbformat": 4,
 "nbformat_minor": 2
}